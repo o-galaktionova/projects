{
 "cells": [
  {
   "cell_type": "code",
   "execution_count": 1,
   "metadata": {},
   "outputs": [],
   "source": [
    "import pandas as pd"
   ]
  },
  {
   "cell_type": "markdown",
   "metadata": {},
   "source": [
    "# Задание 1. Очень усердные ученики"
   ]
  },
  {
   "cell_type": "markdown",
   "metadata": {},
   "source": [
    "Образовательные курсы состоят из различных уроков, каждый из которых состоит из нескольких маленьких заданий. Каждое такое маленькое задание называется \"горошиной\".\n",
    "Назовём очень усердным учеником того пользователя, который хотя бы раз за текущий месяц правильно решил 20 горошин за час.\n",
    "\n",
    "Дана таблица peas:\n",
    "* st_id - ученика\n",
    "* timest - Время решения карточки\n",
    "* correct - Правильно ли решена горошина?\n",
    "* subject - Дисциплина, в которой находится горошина\n",
    "\n",
    "Необходимо написать оптимальный запрос, который даст информацию о количестве очень усердных студентов за март 2020 года."
   ]
  },
  {
   "cell_type": "code",
   "execution_count": 5,
   "metadata": {},
   "outputs": [],
   "source": [
    "query_1 = \"\"\"\n",
    "SELECT\n",
    "    count(st_id) AS quantity_of_students\n",
    "FROM\n",
    "    (\n",
    "    SELECT \n",
    "        st_id,\n",
    "        count(correct) AS quantity_of_peas\n",
    "    FROM peas \n",
    "    WHERE\n",
    "        toStartOfMonth(timest) = '2020-03-01'\n",
    "        AND correct = 1\n",
    "    GROUP BY st_id\n",
    "    HAVING quantity_of_peas >= 20\n",
    "    )\n",
    "\"\"\""
   ]
  },
  {
   "cell_type": "markdown",
   "metadata": {},
   "source": [
    "Так в условии задания на LMS изначально были противоречивые формулировки, в которые вносили изменения, и до этого усердным учеником считался пользователь, который хотя бы раз за текущий месяц правильно решил 20 горошин ЗА ЧАС, то вот Postgresql-запрос, который ищет таких учеников за март 2020 года через оконные функции."
   ]
  },
  {
   "cell_type": "code",
   "execution_count": 3,
   "metadata": {},
   "outputs": [],
   "source": [
    "query_2 = \"\"\"\n",
    "SELECT\n",
    "    COUNT(st_id) AS quantity_of_students\n",
    "FROM\n",
    "    (\n",
    "    SELECT\n",
    "        st_id,\n",
    "        COUNT(correct) OVER w AS quantity_of_peas\n",
    "    FROM peas\n",
    "    WHERE\n",
    "        EXTRACT(MONTH FROM CAST(timest AS date)) = 3.00\n",
    "        AND EXTRACT(YEAR FROM CAST(timest AS date)) = 2020.00\n",
    "        AND correct = 1\n",
    "    WINDOW w AS (\n",
    "        PARTITION BY st_id\n",
    "        ORDER BY timest ASC\n",
    "        RANGE BETWEEN CURRENT ROW AND '1 hour' FOLLOWING\n",
    "        )\n",
    "    ) as a\n",
    "WHERE quantity_of_peas >= 20\n",
    "\"\"\""
   ]
  },
  {
   "cell_type": "markdown",
   "metadata": {},
   "source": [
    "# Задание 2.  Оптимизация воронки\n",
    "\n",
    "Образовательная платформа предлагает пройти студентам курсы по модели trial: студент может решить бесплатно лишь 30 горошин в день. Для неограниченного количества заданий в определенной дисциплине студенту необходимо приобрести полный доступ. Команда провела эксперимент, где был протестирован новый экран оплаты.\n",
    "\n",
    "Даны таблицы: peas, studs, checks.\n",
    "\n",
    "Необходимо в одном запросе выгрузить следующую информацию о группах пользователей:\n",
    "* ARPU \n",
    "* ARPAU \n",
    "* CR в покупку \n",
    "* СR активного пользователя в покупку \n",
    "* CR пользователя из активности по математике (subject = ’math’) в покупку курса по математике"
   ]
  },
  {
   "cell_type": "markdown",
   "metadata": {},
   "source": [
    "##### Пояснения к sql-запросу.\n",
    "\n",
    "Если посмотреть на данные в таблице studs, то мы увидим, что у каждого пользователя несколько меток new и old и больше нет никакой информации, по которой можно было бы нормально сджойнить. Потому что если сджойнить только по st_id все три таблицы, то у нас все перемножится и появится \"100500\" строк с неверной информацией. У меня сложилось впечатление, что была изначально таблица, которую просто разрезали на 3, так как st_id во всех 3 таблицах отсортирован в одном и том же порядке и количество каждого уникального st_id совпадает. Поэтому за неимением дополнительных данных я добавила в каждую таблицу еще по столбцу с нумерацией и сджойнила по нему и stud_id. НО(!!!) вообще-то в реальности так делать не надо, потому что на больших объемах данных легко допустить ошибку. "
   ]
  },
  {
   "cell_type": "markdown",
   "metadata": {},
   "source": [
    "Так как в условии задачи у нас нет понятия \"активного пользователя\", то предположим, что им будет являться пользователь, решивший хотя бы одну горошину. Им может быть и пользователь, решивший 5, 10, 15 горошин, а может быть пользователь, решивший 20 горошин за месяц. Ну то есть при расчете метрики надо будет просто подставить того самого активного пользователя. \n",
    "\n",
    "Расчет метрик:\n",
    "\n",
    "ARPU (Average Revenue Per User) = доход / количество всех уникальных пользователей\n",
    "\n",
    "ARPAU (Average Revenue Per Active User)= доход / количество всех уникальных пользователей, решивших хотя бы 1 горошину\n",
    "\n",
    "CR в покупку = кол-во уникальных пользователей, купивших курсы / кол-во уникальных пользователей, зашедших на сайт \n",
    "\n",
    "CR активного пользователя в покупку = кол-во уникальных пользователей, купивших курсы и решивших хотя бы 1 горошину / кол-во всех уникальных пользователей, решивших хотя бы 1 горошину\n",
    "\n",
    "CR пользователя из активности по математике в покупку курса по математике =  кол-во уникальных пользователей, купивших курсы и решивших хотя бы 1 горошину по математике / кол-во всех уникальных пользователей, решивших хотя бы 1 горошину по математике"
   ]
  },
  {
   "cell_type": "code",
   "execution_count": 4,
   "metadata": {},
   "outputs": [],
   "source": [
    "query_3 = \"\"\"\n",
    "SELECT\n",
    "    test_grp,\n",
    "    sum(money) / count(DISTINCT st_id) AS ARPU,\n",
    "    sum(money) / count(DISTINCT st_id, CASE WHEN correct != 0 THEN 1 ELSE NULL END) AS ARPAU, \n",
    "    count(DISTINCT st_id, CASE WHEN money > 0 THEN 1 ELSE NULL END) / count(DISTINCT st_id) AS cr,\n",
    "    count (DISTINCT st_id, CASE WHEN money>0 AND correct != 0 THEN 1 ELSE NULL END) / count(DISTINCT st_id, CASE WHEN correct != 0 THEN 1 ELSE NULL END) AS cr_AU,\n",
    "    count(DISTINCT st_id, CASE WHEN money>0 AND subject = 'Math' AND correct != 0 THEN 1 ELSE NULL END) / count(DISTINCT st_id, CASE WHEN correct != 0 AND purchased_subject = 'Math' THEN 1 ELSE NULL END) as cr_math\n",
    "FROM\n",
    "    (\n",
    "    SELECT\n",
    "        a.st_id AS st_id,\n",
    "        test_grp,\n",
    "        timest,\n",
    "        correct,\n",
    "        b.subject AS subject,\n",
    "        sale_time,\n",
    "        money,\n",
    "        c.subject AS purchased_subject\n",
    "    FROM\n",
    "        (\n",
    "        SELECT\n",
    "            st_id,\n",
    "            test_grp,\n",
    "            row_number() over(order by st_id) rn\n",
    "        FROM default.studs\n",
    "        ) AS a\n",
    "    JOIN\n",
    "        (\n",
    "        SELECT\n",
    "            st_id,\n",
    "            toDateTime(timest) AS timest,\n",
    "            correct,\n",
    "            subject,\n",
    "            row_number() over(order by st_id) rn\n",
    "        FROM default.peas\n",
    "        ) AS b\n",
    "        ON a.rn = b.rn AND a.st_id = b.st_id\n",
    "    JOIN\n",
    "        (\n",
    "        SELECT\n",
    "            st_id,\n",
    "            toDateTime(sale_time) AS sale_time,\n",
    "            money,\n",
    "            subject,\n",
    "            row_number() over(order by st_id) rn\n",
    "        FROM default.final_project_check\n",
    "        ) AS c\n",
    "        ON a.rn = c.rn AND a.st_id = c.st_id\n",
    "    )\n",
    "GROUP BY test_grp\n",
    "\"\"\""
   ]
  }
 ],
 "metadata": {
  "kernelspec": {
   "display_name": "Python 3",
   "language": "python",
   "name": "python3"
  },
  "language_info": {
   "codemirror_mode": {
    "name": "ipython",
    "version": 3
   },
   "file_extension": ".py",
   "mimetype": "text/x-python",
   "name": "python",
   "nbconvert_exporter": "python",
   "pygments_lexer": "ipython3",
   "version": "3.7.3"
  }
 },
 "nbformat": 4,
 "nbformat_minor": 4
}
